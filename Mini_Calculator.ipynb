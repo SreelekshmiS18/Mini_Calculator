{
 "cells": [
  {
   "cell_type": "code",
   "execution_count": 12,
   "id": "ddd61ec4",
   "metadata": {},
   "outputs": [],
   "source": [
    "import tkinter as tk"
   ]
  },
  {
   "cell_type": "code",
   "execution_count": 13,
   "id": "1c343d26",
   "metadata": {},
   "outputs": [],
   "source": [
    "def click(event):\n",
    "    current=display.get()\n",
    "    text=event.widget.cget('text')\n",
    "    if text == \"=\":\n",
    "        try:\n",
    "            result = eval(current)\n",
    "            display.delete(0, tk.END)\n",
    "            display.insert(tk.END, result)\n",
    "        except Exception:\n",
    "            display.delete(0, tk.END)\n",
    "            display.insert(tk.END, \"Error\")\n",
    "    \n",
    "    elif text==\"C\":\n",
    "        display.delete(0,tk.END)\n",
    "    else:\n",
    "        display.insert(tk.END,text)\n",
    "        \n",
    "    "
   ]
  },
  {
   "cell_type": "code",
   "execution_count": null,
   "id": "ae3273d8",
   "metadata": {},
   "outputs": [],
   "source": [
    "window=tk.Tk()\n",
    "window.title(\"Calculator\")\n",
    "display=tk.Entry(window,bg=\"beige\",font=(\"Arial\",25),justify=\"right\")\n",
    "display.pack(fill=tk.X,padx=10,pady=10,ipady=10)\n",
    "\n",
    "button_frame=tk.Frame(window)\n",
    "button_frame.pack()\n",
    "button_label=[\"7\",\"8\",\"9\",\"*\",\n",
    "             \"4\",\"5\",\"6\",\"/\",\n",
    "             \"1\",\"2\",\"3\",\"-\",\n",
    "             \"C\",\"0\",\"=\",\"+\"]\n",
    "\n",
    "i=0\n",
    "for label in button_label:\n",
    "    button1=tk.Button(button_frame,text=label,font=(\"Arial\",18),padx=20,pady=20)\n",
    "    button1.grid(row=i//4,column=i%4,padx=10,pady=10)\n",
    "    button1.bind(\"<Button-1>\",click)\n",
    "    i +=1\n",
    "    \n",
    "window.mainloop()"
   ]
  },
  {
   "cell_type": "code",
   "execution_count": null,
   "id": "4fc1be92",
   "metadata": {},
   "outputs": [],
   "source": []
  },
  {
   "cell_type": "code",
   "execution_count": null,
   "id": "7f623c53",
   "metadata": {},
   "outputs": [],
   "source": []
  },
  {
   "cell_type": "code",
   "execution_count": null,
   "id": "170bff69",
   "metadata": {},
   "outputs": [],
   "source": []
  },
  {
   "cell_type": "code",
   "execution_count": null,
   "id": "a75c8eb8",
   "metadata": {},
   "outputs": [],
   "source": []
  }
 ],
 "metadata": {
  "kernelspec": {
   "display_name": "Python 3 (ipykernel)",
   "language": "python",
   "name": "python3"
  },
  "language_info": {
   "codemirror_mode": {
    "name": "ipython",
    "version": 3
   },
   "file_extension": ".py",
   "mimetype": "text/x-python",
   "name": "python",
   "nbconvert_exporter": "python",
   "pygments_lexer": "ipython3",
   "version": "3.10.11"
  }
 },
 "nbformat": 4,
 "nbformat_minor": 5
}
